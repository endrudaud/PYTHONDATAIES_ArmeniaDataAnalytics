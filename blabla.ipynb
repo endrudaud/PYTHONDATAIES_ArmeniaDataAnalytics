{
 "cells": [
  {
   "cell_type": "markdown",
   "metadata": {},
   "source": [
    "# <span style=\"color: #2E86C1; font-family: Arial; font-size: 2.5em;\">Armenian Population Perception Analysis</span>\n",
    "\n",
    "<span style=\"font-family: Arial; font-size: 1.2em;\">This analysis explores the factors influencing the perceptions of the Armenian population on key topics using data from the 2019 Caucasus Barometer survey.</span>"
   ]
  },
  {
   "cell_type": "code",
   "execution_count": 1,
   "metadata": {},
   "outputs": [
    {
     "data": {
      "text/html": [
       "<style>/* style.css */\n",
       "div.output_subarea {\n",
       "    font-family: 'Arial', sans-serif;\n",
       "    font-size: 16px;\n",
       "    line-height: 1.6;\n",
       "    padding: 20px;\n",
       "}\n",
       "\n",
       "h1, h2, h3 {\n",
       "    color: #2C3E50;\n",
       "    margin-top: 20px;\n",
       "}\n",
       "\n",
       "p {\n",
       "    margin-bottom: 10px;\n",
       "}</style>"
      ],
      "text/plain": [
       "<IPython.core.display.HTML object>"
      ]
     },
     "metadata": {},
     "output_type": "display_data"
    },
    {
     "data": {
      "application/vnd.jupyter.widget-view+json": {
       "model_id": "72cfc14623e845b89fbced274977680b",
       "version_major": 2,
       "version_minor": 0
      },
      "text/plain": [
       "Tab(children=(Output(), Output(), Output(), Output(), Output(), Output()), selected_index=0, titles=('Overview…"
      ]
     },
     "metadata": {},
     "output_type": "display_data"
    }
   ],
   "source": [
    "# Import the functions from the display_content.py script\n",
    "from display_content import setup_display, create_tabs_for_sections\n",
    "\n",
    "# Set up the display settings (this can be a placeholder)\n",
    "setup_display()\n",
    "\n",
    "# List of sections to create tabs for\n",
    "sections = [\n",
    "    'Overview',\n",
    "    'Dissolution of the Soviet Union',\n",
    "    \"Armenia's Main Enemy\",\n",
    "    \"Armenia's Main Friend\",\n",
    "    \"Opinion about EU\",\n",
    "    'Summary and Outlook'\n",
    "]\n",
    "\n",
    "# Create and display tabs for each section with content displayed inside\n",
    "create_tabs_for_sections(sections)"
   ]
  },
  {
   "cell_type": "code",
   "execution_count": null,
   "metadata": {},
   "outputs": [],
   "source": []
  }
 ],
 "metadata": {
  "kernelspec": {
   "display_name": "Python 3",
   "language": "python",
   "name": "python3"
  },
  "language_info": {
   "codemirror_mode": {
    "name": "ipython",
    "version": 3
   },
   "file_extension": ".py",
   "mimetype": "text/x-python",
   "name": "python",
   "nbconvert_exporter": "python",
   "pygments_lexer": "ipython3",
   "version": "3.11.1"
  }
 },
 "nbformat": 4,
 "nbformat_minor": 2
}
