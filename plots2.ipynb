{
 "cells": [
  {
   "cell_type": "code",
   "execution_count": 7,
   "metadata": {},
   "outputs": [
    {
     "ename": "PyreadstatError",
     "evalue": "File /Users/tigrankarapetyan/Desktop/PYTHONDATAIES_ArmeniaDataAnalytics/CAUCASUS BAROMETER/selected_variables_2019.csv does not exist!",
     "output_type": "error",
     "traceback": [
      "\u001b[0;31m---------------------------------------------------------------------------\u001b[0m",
      "\u001b[0;31mPyreadstatError\u001b[0m                           Traceback (most recent call last)",
      "Cell \u001b[0;32mIn[7], line 7\u001b[0m\n\u001b[1;32m      4\u001b[0m \u001b[38;5;28;01mimport\u001b[39;00m \u001b[38;5;21;01mpyreadstat\u001b[39;00m\n\u001b[1;32m      6\u001b[0m \u001b[38;5;66;03m# Load the data\u001b[39;00m\n\u001b[0;32m----> 7\u001b[0m df, meta \u001b[38;5;241m=\u001b[39m pyreadstat\u001b[38;5;241m.\u001b[39mread_sav(\u001b[38;5;124m\"\u001b[39m\u001b[38;5;124m/Users/tigrankarapetyan/Desktop/PYTHONDATAIES_ArmeniaDataAnalytics/CAUCASUS BAROMETER/selected_variables_2019.csv\u001b[39m\u001b[38;5;124m\"\u001b[39m, encoding\u001b[38;5;241m=\u001b[39m\u001b[38;5;124m'\u001b[39m\u001b[38;5;124mUTF-8\u001b[39m\u001b[38;5;124m'\u001b[39m,disable_datetime_conversion\u001b[38;5;241m=\u001b[39m\u001b[38;5;28;01mTrue\u001b[39;00m)\n\u001b[1;32m      8\u001b[0m pd\u001b[38;5;241m.\u001b[39mset_option(\u001b[38;5;124m\"\u001b[39m\u001b[38;5;124mdisplay.max_columns\u001b[39m\u001b[38;5;124m\"\u001b[39m, \u001b[38;5;28;01mNone\u001b[39;00m)\n\u001b[1;32m      9\u001b[0m df\u001b[38;5;241m.\u001b[39mhead()\n",
      "File \u001b[0;32mpyreadstat/pyreadstat.pyx:389\u001b[0m, in \u001b[0;36mpyreadstat.pyreadstat.read_sav\u001b[0;34m()\u001b[0m\n",
      "File \u001b[0;32mpyreadstat/_readstat_parser.pyx:1075\u001b[0m, in \u001b[0;36mpyreadstat._readstat_parser.run_conversion\u001b[0;34m()\u001b[0m\n",
      "\u001b[0;31mPyreadstatError\u001b[0m: File /Users/tigrankarapetyan/Desktop/PYTHONDATAIES_ArmeniaDataAnalytics/CAUCASUS BAROMETER/selected_variables_2019.csv does not exist!"
     ]
    }
   ],
   "source": [
    "import pandas as pd\n",
    "import seaborn as sns\n",
    "import matplotlib.pyplot as plt\n",
    "import pyreadstat\n",
    "\n",
    "# Load the data\n",
    "df, meta = pyreadstat.read_sav(\"/Users/tigrankarapetyan/Desktop/PYTHONDATAIES_ArmeniaDataAnalytics/CAUCASUS BAROMETER/selected_variables_2019.csv\", encoding='UTF-8',disable_datetime_conversion=True)\n",
    "pd.set_option(\"display.max_columns\", None)\n",
    "df.head()\n",
    "\n",
    "\n",
    "# Print column names to verify\n",
    "print(\"Available columns:\", df.columns)\n",
    "\n",
    "# Update this list based on the exact column names from the DataFrame\n",
    "columns_to_keep = [\n",
    "    'BUSINUSA', 'BUSINARM', 'BUSINAZE', 'BUSINITA', 'BUSINARA',\n",
    "    'BUSINGEO', 'BUSINIRA', 'BUSINJEW', 'BUSINKUR', 'BUSINRUS',\n",
    "    'BUSINTUR', 'BUSINUKR', 'BUSININD', 'BUSINMOL', 'BUSINABK',\n",
    "    'AGE', 'INCOME'  # Add other numerical columns as needed\n",
    "]\n",
    "\n",
    "# Strip any leading/trailing spaces from column names if necessary\n",
    "df.columns = df.columns.str.strip()\n",
    "\n",
    "# Filter the DataFrame to keep only the specified columns\n",
    "filtered_df = df[columns_to_keep]\n",
    "\n",
    "# Identify binary columns\n",
    "binary_columns = [col for col in filtered_df.columns if filtered_df[col].isin([0, 1]).all()]\n",
    "\n",
    "# Identify numerical columns (excluding binary columns)\n",
    "numerical_columns = [col for col in filtered_df.columns if col not in binary_columns]\n",
    "\n",
    "# Create a mask for binary columns to keep only rows where binary columns are 0 or 1\n",
    "binary_mask = filtered_df[binary_columns].applymap(lambda x: x in [0, 1]).all(axis=1)\n",
    "\n",
    "# Apply the mask to keep rows for binary columns, and include all rows for numerical columns\n",
    "combined_df = filtered_df[numerical_columns].copy()\n",
    "combined_df[binary_columns] = filtered_df[binary_columns][binary_mask]\n",
    "\n",
    "# Calculate the correlation matrix\n",
    "corr_matrix = combined_df.corr()\n",
    "\n",
    "# Create a heatmap for the correlation matrix\n",
    "plt.figure(figsize=(12, 10))\n",
    "sns.heatmap(corr_matrix, annot=True, cmap='coolwarm', fmt='.2f', linewidths=0.5)\n",
    "plt.title('Correlation Heatmap Including Binary and Numerical Variables')\n",
    "plt.show()"
   ]
  }
 ],
 "metadata": {
  "kernelspec": {
   "display_name": "base",
   "language": "python",
   "name": "python3"
  },
  "language_info": {
   "codemirror_mode": {
    "name": "ipython",
    "version": 3
   },
   "file_extension": ".py",
   "mimetype": "text/x-python",
   "name": "python",
   "nbconvert_exporter": "python",
   "pygments_lexer": "ipython3",
   "version": "3.11.7"
  }
 },
 "nbformat": 4,
 "nbformat_minor": 2
}
