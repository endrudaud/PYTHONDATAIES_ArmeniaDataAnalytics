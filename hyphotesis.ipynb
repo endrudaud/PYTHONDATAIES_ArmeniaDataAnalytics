{
 "cells": [
  {
   "cell_type": "code",
   "execution_count": null,
   "metadata": {},
   "outputs": [],
   "source": [
    "#'RESPAGE', 'FATEINLF','BUSINRUS','BUSINTUR', 'BUSINGA', 'NEIGHBOR', 'USSRDISS', 'EUSUPP', 'EEUSUPNA', 'EEUNSUW', 'EEUSUPW', 'MAINFRN', 'MAINENEM', 'PARTYSUPP', 'WORKTYP', 'PERSINC', 'EDUYRS', 'RFAEDUC', 'RMOEDUC', 'RELIMP', 'ECONSTN', 'MONYTOT'"
   ]
  },
  {
   "cell_type": "code",
   "execution_count": null,
   "metadata": {},
   "outputs": [],
   "source": [
    "#Was the disolution of Soviet Union good or bad thing? USSRDISS\n",
    "\n",
    "# Respondents who support nationalist or conservative parties are more likely to view the dissolution as a bad thing.\n",
    "\n",
    "# Respondents with higher personal income are more likely to view the dissolution as a good thing.\n",
    "\n",
    "# Respondents with more years of education are more likely to view the dissolution of the Soviet Union as a good thing.\n",
    "\n",
    "# Older respondents are more likely to view the dissolution of the Soviet Union as a bad thing compared to younger respondents."
   ]
  },
  {
   "cell_type": "code",
   "execution_count": null,
   "metadata": {},
   "outputs": [],
   "source": [
    "# Who is main enemy of Armenia? MAINENEM\n",
    "\n",
    "# Respondents who support EU integration are more likely to perceive Russia as Armenia's main enemy.\n",
    " \n",
    "# Respondents who consider Russia their main ally are less likely to view Russia as the enemy and more likely to perceive Turkey or Azerbaijan as Armenia's main enemy.\n",
    " \n",
    "# Respondents who support nationalist or conservative parties are more likely to perceive Turkey as Armenia's main enemy.\n",
    "\n",
    "#  Respondents with more years of education are more likely to perceive Russia as Armenia's main enemy."
   ]
  },
  {
   "cell_type": "code",
   "execution_count": null,
   "metadata": {},
   "outputs": [],
   "source": [
    "# Who is main friend of Armenia? MAINFRN\n",
    "\n",
    "#  Older respondents are more likely to perceive Russia as Armenia's main friend compared to younger respondents.\n",
    "\n",
    "#  Respondents from higher-income families are more likely to perceive the European Union (EU) or the United States as Armenia's main friend.\n",
    "\n",
    "#  Respondents who perceive Turkey or Azerbaijan as Armenia's main enemy are more likely to perceive Russia as Armenia's main friend."
   ]
  },
  {
   "cell_type": "code",
   "execution_count": null,
   "metadata": {},
   "outputs": [],
   "source": [
    "#  What is your opinion about EU?\n",
    "\n",
    "# Younger respondents are more likely to have a positive opinion about the EU compared to older respondents. EUSUPP\n",
    "\n",
    "# Respondents who support liberal or pro-European political parties are more likely to have a positive opinion of the EU.\n",
    "\n",
    "# Respondents with more years of education are more likely to have a positive opinion of the EU.\n",
    "\n",
    "# Respondents who consider religion very important may have a more skeptical opinion of the EU, especially if they perceive it as secular or opposed to traditional values."
   ]
  }
 ],
 "metadata": {
  "language_info": {
   "name": "python"
  }
 },
 "nbformat": 4,
 "nbformat_minor": 2
}
